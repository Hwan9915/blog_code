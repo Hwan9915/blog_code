{
 "cells": [
  {
   "cell_type": "markdown",
   "metadata": {},
   "source": [
    "# 복합 타입(Optional, Union)"
   ]
  },
  {
   "cell_type": "markdown",
   "metadata": {},
   "source": [
    "## Optional"
   ]
  },
  {
   "cell_type": "code",
   "execution_count": 1,
   "metadata": {},
   "outputs": [
    {
     "name": "stdout",
     "output_type": "stream",
     "text": [
      "Hello, Alice!\n"
     ]
    }
   ],
   "source": [
    "from typing import Optional\n",
    "\n",
    "def greet(name: Optional[str] = None) -> str:\n",
    "    if name is None:\n",
    "        return \"Hello, Guest!\"\n",
    "    else:\n",
    "        return f\"Hello, {name}!\"\n",
    "        \n",
    "# 함수 사용 예시\n",
    "print(greet(\"Alice\"))"
   ]
  },
  {
   "cell_type": "code",
   "execution_count": 2,
   "metadata": {},
   "outputs": [
    {
     "name": "stdout",
     "output_type": "stream",
     "text": [
      "Hello, Alice!\n"
     ]
    }
   ],
   "source": [
    "from typing import Union\n",
    "\n",
    "def greet(name: Union[str, None] = None) -> str:\n",
    "    if name is None:\n",
    "        return \"Hello, Guest!\"\n",
    "    else:\n",
    "        return f\"Hello, {name}!\"\n",
    "    \n",
    "# 함수 사용 예시\n",
    "print(greet(\"Alice\"))"
   ]
  },
  {
   "cell_type": "code",
   "execution_count": 3,
   "metadata": {},
   "outputs": [
    {
     "name": "stdout",
     "output_type": "stream",
     "text": [
      "Hello, Alice!\n"
     ]
    }
   ],
   "source": [
    "from typing import Optional\n",
    "\n",
    "def greet(name: str | None = None) -> str:\n",
    "    if name is None:\n",
    "        return \"Hello, Guest!\"\n",
    "    else:\n",
    "        return f\"Hello, {name}!\"\n",
    "    \n",
    "# 함수 사용 예시\n",
    "print(greet(\"Alice\"))"
   ]
  },
  {
   "cell_type": "markdown",
   "metadata": {},
   "source": [
    "## Union"
   ]
  },
  {
   "cell_type": "code",
   "execution_count": 4,
   "metadata": {},
   "outputs": [
    {
     "name": "stdout",
     "output_type": "stream",
     "text": [
      "5\n",
      "123\n"
     ]
    }
   ],
   "source": [
    "from typing import Union\n",
    "\n",
    "def length_or_value(data: Union[str, int]) -> int:\n",
    "    if isinstance(data, str):\n",
    "        return len(data)\n",
    "    elif isinstance(data, int):\n",
    "        return data\n",
    "    \n",
    "# 함수 사용 예시\n",
    "print(length_or_value(\"hello\"))\n",
    "print(length_or_value(123))  "
   ]
  }
 ],
 "metadata": {
  "kernelspec": {
   "display_name": ".venv",
   "language": "python",
   "name": "python3"
  },
  "language_info": {
   "codemirror_mode": {
    "name": "ipython",
    "version": 3
   },
   "file_extension": ".py",
   "mimetype": "text/x-python",
   "name": "python",
   "nbconvert_exporter": "python",
   "pygments_lexer": "ipython3",
   "version": "3.11.9"
  }
 },
 "nbformat": 4,
 "nbformat_minor": 2
}
