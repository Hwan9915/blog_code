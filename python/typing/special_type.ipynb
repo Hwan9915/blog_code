{
 "cells": [
  {
   "cell_type": "markdown",
   "metadata": {},
   "source": [
    "# 특수 타입(Callable, NewType)"
   ]
  },
  {
   "cell_type": "markdown",
   "metadata": {},
   "source": [
    "## Callable"
   ]
  },
  {
   "cell_type": "code",
   "execution_count": 1,
   "metadata": {},
   "outputs": [
    {
     "name": "stdout",
     "output_type": "stream",
     "text": [
      "2.0\n"
     ]
    }
   ],
   "source": [
    "from typing import Callable, Union\n",
    "\n",
    "def operate_advanced(func: Callable[[int, float], Union[int, float]], x: int, y: float) -> Union[int, float]:\n",
    "    \"\"\"함수 func에 정수 x와 부동소수점 y를 전닯하고 결과를 반환\"\"\"\n",
    "    return func(x, y)\n",
    "\n",
    "def multiply(a: int, b: float) -> float:\n",
    "    \"\"\"정수와 부동소수점 수의 곱을 반환\"\"\"\n",
    "    return a * b\n",
    "\n",
    "# `multiply` 함수를 `operate_advanced`에 인자로 전달\n",
    "result = operate_advanced(multiply, 4, 0.5)\n",
    "print(result)  "
   ]
  },
  {
   "cell_type": "markdown",
   "metadata": {},
   "source": [
    "## NewType"
   ]
  },
  {
   "cell_type": "code",
   "execution_count": 2,
   "metadata": {},
   "outputs": [
    {
     "name": "stdout",
     "output_type": "stream",
     "text": [
      "John Doe\n"
     ]
    }
   ],
   "source": [
    "from typing import NewType\n",
    "\n",
    "UserId = NewType('UserId', int)\n",
    "\n",
    "def get_user_name(user_id: UserId) -> str:\n",
    "    return \"John Doe\"  # 예시 목적\n",
    "\n",
    "# 사용 예시\n",
    "user = UserId(123)\n",
    "print(get_user_name(user)) "
   ]
  }
 ],
 "metadata": {
  "kernelspec": {
   "display_name": ".venv",
   "language": "python",
   "name": "python3"
  },
  "language_info": {
   "codemirror_mode": {
    "name": "ipython",
    "version": 3
   },
   "file_extension": ".py",
   "mimetype": "text/x-python",
   "name": "python",
   "nbconvert_exporter": "python",
   "pygments_lexer": "ipython3",
   "version": "3.11.9"
  }
 },
 "nbformat": 4,
 "nbformat_minor": 2
}
