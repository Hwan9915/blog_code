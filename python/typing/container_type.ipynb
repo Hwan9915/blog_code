{
 "cells": [
  {
   "cell_type": "markdown",
   "metadata": {},
   "source": [
    "# 컨테이너 타입(List, Dict, Tuple, Mapping, Iterable, NamedTuple)"
   ]
  },
  {
   "cell_type": "markdown",
   "metadata": {},
   "source": [
    "## List"
   ]
  },
  {
   "cell_type": "code",
   "execution_count": 1,
   "metadata": {},
   "outputs": [
    {
     "name": "stdout",
     "output_type": "stream",
     "text": [
      "15\n"
     ]
    }
   ],
   "source": [
    "from typing import List\n",
    "\n",
    "def process_numbers(numbers: List[int]) -> int:\n",
    "    \"\"\"리스트에 포함된 숫자들의 합을 반환합니다.\"\"\"\n",
    "    return sum(numbers)\n",
    "\n",
    "# 함수 사용 예시\n",
    "result = process_numbers([1, 2, 3, 4, 5])\n",
    "print(result)  "
   ]
  },
  {
   "cell_type": "markdown",
   "metadata": {},
   "source": [
    "## Tuple"
   ]
  },
  {
   "cell_type": "code",
   "execution_count": 2,
   "metadata": {},
   "outputs": [
    {
     "name": "stdout",
     "output_type": "stream",
     "text": [
      "24\n"
     ]
    }
   ],
   "source": [
    "from typing import Tuple\n",
    "\n",
    "def multiply_elements(values: Tuple[int, ...]) -> int:\n",
    "    \"\"\"튜플 내 모든 정수의 곱을 반환합니다.\"\"\"\n",
    "    result = 1\n",
    "    for value in values:\n",
    "        result *= value\n",
    "    return result\n",
    "\n",
    "# 함수 사용 예시\n",
    "result = multiply_elements((1, 2, 3, 4))\n",
    "print(result) "
   ]
  },
  {
   "cell_type": "markdown",
   "metadata": {},
   "source": [
    "## Dict"
   ]
  },
  {
   "cell_type": "code",
   "execution_count": 3,
   "metadata": {},
   "outputs": [
    {
     "name": "stdout",
     "output_type": "stream",
     "text": [
      "263\n"
     ]
    }
   ],
   "source": [
    "from typing import Dict\n",
    "\n",
    "def total_scores(scores: Dict[str, int]) -> int:\n",
    "    \"\"\"딕셔너리에 저장된 모든 점수의 합을 반환합니다.\"\"\"\n",
    "    return sum(scores.values())\n",
    "\n",
    "# 함수 사용 예시\n",
    "scores = {\"Alice\": 90, \"Bob\": 85, \"Charlie\": 88}\n",
    "total = total_scores(scores)\n",
    "print(total)  "
   ]
  },
  {
   "cell_type": "markdown",
   "metadata": {},
   "source": [
    "## Mapping"
   ]
  },
  {
   "cell_type": "code",
   "execution_count": 4,
   "metadata": {},
   "outputs": [
    {
     "name": "stdout",
     "output_type": "stream",
     "text": [
      "one: 1\n",
      "two: 2\n"
     ]
    }
   ],
   "source": [
    "from typing import Mapping\n",
    "\n",
    "def show_mapping(data: Mapping[str, int]) -> None:\n",
    "    for key, value in data.items():\n",
    "        print(f\"{key}: {value}\")\n",
    "\n",
    "show_mapping({'one': 1, 'two': 2}) "
   ]
  },
  {
   "cell_type": "markdown",
   "metadata": {},
   "source": [
    "## Iterable"
   ]
  },
  {
   "cell_type": "code",
   "execution_count": 5,
   "metadata": {},
   "outputs": [
    {
     "name": "stdout",
     "output_type": "stream",
     "text": [
      "10\n"
     ]
    }
   ],
   "source": [
    "from typing import Iterable\n",
    "\n",
    "def process_values(values: Iterable[int]) -> int:\n",
    "    return sum(values)\n",
    "\n",
    "# 리스트를 함수에 전달\n",
    "print(process_values([1, 2, 3, 4]))  "
   ]
  },
  {
   "cell_type": "markdown",
   "metadata": {},
   "source": [
    "## NamedTuple"
   ]
  },
  {
   "cell_type": "code",
   "execution_count": 6,
   "metadata": {},
   "outputs": [
    {
     "name": "stdout",
     "output_type": "stream",
     "text": [
      "Alice\n"
     ]
    }
   ],
   "source": [
    "from typing import NamedTuple\n",
    "\n",
    "class Employee(NamedTuple):\n",
    "    name: str\n",
    "    id: int\n",
    "\n",
    "# 사용 예시\n",
    "emp = Employee(\"Alice\", 100)\n",
    "print(emp.name)  "
   ]
  }
 ],
 "metadata": {
  "kernelspec": {
   "display_name": ".venv",
   "language": "python",
   "name": "python3"
  },
  "language_info": {
   "codemirror_mode": {
    "name": "ipython",
    "version": 3
   },
   "file_extension": ".py",
   "mimetype": "text/x-python",
   "name": "python",
   "nbconvert_exporter": "python",
   "pygments_lexer": "ipython3",
   "version": "3.11.9"
  }
 },
 "nbformat": 4,
 "nbformat_minor": 2
}
